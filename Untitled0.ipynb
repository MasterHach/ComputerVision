{
  "cells": [
    {
      "cell_type": "code",
      "execution_count": 1,
      "metadata": {
        "id": "SVI00Jia0SdR"
      },
      "outputs": [],
      "source": [
        "from nltk.tokenize import sent_tokenize\n",
        "from nltk.corpus import stopwords\n",
        "import os\n",
        "import pandas as pd\n",
        "import torch\n",
        "from transformers import AutoTokenizer"
      ]
    },
    {
      "cell_type": "code",
      "execution_count": 7,
      "metadata": {
        "colab": {
          "base_uri": "https://localhost:8080/"
        },
        "id": "52HPkLa11TNY",
        "outputId": "d8919623-00e3-41ee-9a6a-e11ebc991fe8"
      },
      "outputs": [
        {
          "name": "stderr",
          "output_type": "stream",
          "text": [
            "[nltk_data] Downloading package punkt_tab to /root/nltk_data...\n",
            "[nltk_data]   Unzipping tokenizers/punkt_tab.zip.\n"
          ]
        }
      ],
      "source": [
        "chunks = []\n",
        "authors = []\n",
        "device = torch.device('cuda')\n",
        "\n",
        "model_name = \"cointegrated/rubert-tiny\"  # Легкая версия ruBERT\n",
        "tokenizer = AutoTokenizer.from_pretrained(model_name)\n",
        "\n",
        "max_tokens = 512\n",
        "chunk_size = 10 # количество предложений, которые будут входить в 1 запись в датафрейме для дальнейшего обучения\n",
        "author_dir = 'authors'\n",
        "train_dir = 'train'\n",
        "stop_words = set(stopwords.words('russian'))"
      ]
    },
    {
      "cell_type": "code",
      "execution_count": 8,
      "metadata": {
        "colab": {
          "base_uri": "https://localhost:8080/"
        },
        "id": "elRreECE1i2E",
        "outputId": "f062b1af-c114-40cf-f9af-b0e3cc54e13e"
      },
      "outputs": [
        {
          "name": "stderr",
          "output_type": "stream",
          "text": [
            "Token indices sequence length is longer than the specified maximum sequence length for this model (545 > 512). Running this sequence through the model will result in indexing errors\n"
          ]
        }
      ],
      "source": [
        "# проходим по всем 6 файлам, преобрабатываем текст, разделяем на предложения, добавляем в датафрейм\n",
        "for file in os.listdir(author_dir):\n",
        "    \"\"\"\n",
        "    Не было проведено аугментации, удаления редких слов, удаления символов, лемминга и стемминга, так как\n",
        "    показалось, что удалив может пропасть авторский стиль (например много тире в тексте - значит диалог, авторский прием,\n",
        "    много ! в тексте - тоже не у каждого автора)\n",
        "    \"\"\"\n",
        "    author = file.split('.')[0]\n",
        "    path = os.path.join(author_dir, file)\n",
        "    with open(path, encoding='utf-8') as f:\n",
        "        text = f.read()\n",
        "        text = text.lower() # преобразование всего текста в нижний регистр чтобы не было повторений например Текст, текст\n",
        "        text = \" \".join([word for word in text.split() if word not in stop_words]) # удаление разных и в на к от (неинформативно)\n",
        "        sentences = sent_tokenize(text, language=\"russian\")\n",
        "        for i in range(0, len(sentences), chunk_size):\n",
        "            chunk = \" \".join(sentences[i:i+chunk_size])\n",
        "            if len(tokenizer(chunk)[\"input_ids\"]) <= max_tokens:\n",
        "                chunks.append(chunk)\n",
        "                authors.append(author)\n",
        "\n",
        "df = pd.DataFrame({\n",
        "    'chunk': chunks,\n",
        "    'author': authors\n",
        "})"
      ]
    },
    {
      "cell_type": "code",
      "execution_count": 9,
      "metadata": {
        "colab": {
          "base_uri": "https://localhost:8080/",
          "height": 84,
          "referenced_widgets": [
            "43b0c3c7c58042c299ee3c9279e995c1",
            "8d550a10e6df4f93b1175dad5715e628",
            "eb0b5b1fa7704ddba6148f0e286478d4",
            "436e6f761b604d17a6837cd77fee14ad",
            "3721643f7d3a443088ae2cf0213f57eb",
            "a5b81880ae3e49a7aba9d5470744dcf0",
            "9e577a37c62c46ebac6f6ed1383e45a5",
            "a82a0386ead64c20b3cbb2d1605cbf2f",
            "0d6c1824c811474eb4f6f594919d372b",
            "5be202546ff54a3badc82204c455608f",
            "fce1b5d42a054e9c8224d377dbf790a0"
          ]
        },
        "id": "JREx9lux1zT3",
        "outputId": "972114f0-9e14-4bec-a872-60e42167a7cd"
      },
      "outputs": [
        {
          "data": {
            "application/vnd.jupyter.widget-view+json": {
              "model_id": "43b0c3c7c58042c299ee3c9279e995c1",
              "version_major": 2,
              "version_minor": 0
            },
            "text/plain": [
              "model.safetensors:   0%|          | 0.00/47.7M [00:00<?, ?B/s]"
            ]
          },
          "metadata": {},
          "output_type": "display_data"
        },
        {
          "name": "stderr",
          "output_type": "stream",
          "text": [
            "Some weights of BertForSequenceClassification were not initialized from the model checkpoint at cointegrated/rubert-tiny and are newly initialized: ['classifier.bias', 'classifier.weight']\n",
            "You should probably TRAIN this model on a down-stream task to be able to use it for predictions and inference.\n"
          ]
        }
      ],
      "source": [
        "from transformers import AutoModelForSequenceClassification\n",
        "\n",
        "model = AutoModelForSequenceClassification.from_pretrained(model_name, num_labels=6).to(\"cuda\")\n",
        "\n",
        "# Функция для токенизации текста\n",
        "def tokenize_function(text):\n",
        "    return tokenizer(text, padding='max_length', truncation=True, max_length=512)\n",
        "\n",
        "# Применение токенизации ко всем строкам в твоем датафрейме\n",
        "df['input_ids'] = df['chunk'].apply(lambda x: tokenize_function(x)['input_ids'])\n",
        "df['attention_mask'] = df['chunk'].apply(lambda x: tokenize_function(x)['attention_mask'])"
      ]
    },
    {
      "cell_type": "code",
      "execution_count": 10,
      "metadata": {
        "id": "cH1yvPXi17s9"
      },
      "outputs": [],
      "source": [
        "author_to_id = {'Bradbury': 0, 'Bulgakov': 1, 'Fry': 2, 'Genri': 3, 'Simak': 4, 'Strugatskie': 5}\n",
        "df['labels'] = df['author'].map(author_to_id)"
      ]
    },
    {
      "cell_type": "code",
      "execution_count": 11,
      "metadata": {
        "id": "G6HUcIYj19sO"
      },
      "outputs": [],
      "source": [
        "from sklearn.model_selection import train_test_split\n",
        "\n",
        "# Разделяем на обучающую и тестовую выборки\n",
        "train_texts, val_texts, train_labels, val_labels = train_test_split(df['chunk'], df['labels'], test_size=0.2, shuffle=True)"
      ]
    },
    {
      "cell_type": "code",
      "execution_count": 12,
      "metadata": {
        "id": "Poz8McQZ2All"
      },
      "outputs": [],
      "source": [
        "import torch\n",
        "from torch.utils.data import Dataset\n",
        "\n",
        "class AuthorDataset(Dataset):\n",
        "    def __init__(self, texts, labels, tokenizer, max_length=512):\n",
        "        self.texts = texts\n",
        "        self.labels = labels\n",
        "        self.tokenizer = tokenizer\n",
        "        self.max_length = max_length\n",
        "\n",
        "    def __len__(self):\n",
        "        return len(self.texts)\n",
        "\n",
        "    def __getitem__(self, item):\n",
        "        text = self.texts[item]\n",
        "        label = self.labels[item]\n",
        "\n",
        "        encoding = self.tokenizer.encode_plus(\n",
        "            text,\n",
        "            add_special_tokens=True,\n",
        "            max_length=self.max_length,\n",
        "            padding='max_length',\n",
        "            truncation=True,\n",
        "            return_attention_mask=True,\n",
        "            return_tensors='pt'\n",
        "        )\n",
        "\n",
        "        return {\n",
        "            'input_ids': encoding['input_ids'].flatten(),\n",
        "            'attention_mask': encoding['attention_mask'].flatten(),\n",
        "            'labels': torch.tensor(label, dtype=torch.long)\n",
        "        }\n",
        "\n",
        "# Создаём Dataset\n",
        "train_dataset = AuthorDataset(train_texts.tolist(), train_labels.tolist(), tokenizer)\n",
        "val_dataset = AuthorDataset(val_texts.tolist(), val_labels.tolist(), tokenizer)\n"
      ]
    },
    {
      "cell_type": "code",
      "execution_count": 13,
      "metadata": {
        "colab": {
          "base_uri": "https://localhost:8080/",
          "height": 502
        },
        "id": "M_UlhYLv2BiC",
        "outputId": "cf36bbed-8d37-436f-d445-cc2a6299c98a"
      },
      "outputs": [
        {
          "name": "stderr",
          "output_type": "stream",
          "text": [
            "\u001b[34m\u001b[1mwandb\u001b[0m: \u001b[33mWARNING\u001b[0m The `run_name` is currently set to the same value as `TrainingArguments.output_dir`. If this was not intended, please specify a different run name by setting the `TrainingArguments.run_name` parameter.\n",
            "\u001b[34m\u001b[1mwandb\u001b[0m: Using wandb-core as the SDK backend.  Please refer to https://wandb.me/wandb-core for more information.\n"
          ]
        },
        {
          "data": {
            "application/javascript": "\n        window._wandbApiKey = new Promise((resolve, reject) => {\n            function loadScript(url) {\n            return new Promise(function(resolve, reject) {\n                let newScript = document.createElement(\"script\");\n                newScript.onerror = reject;\n                newScript.onload = resolve;\n                document.body.appendChild(newScript);\n                newScript.src = url;\n            });\n            }\n            loadScript(\"https://cdn.jsdelivr.net/npm/postmate/build/postmate.min.js\").then(() => {\n            const iframe = document.createElement('iframe')\n            iframe.style.cssText = \"width:0;height:0;border:none\"\n            document.body.appendChild(iframe)\n            const handshake = new Postmate({\n                container: iframe,\n                url: 'https://wandb.ai/authorize'\n            });\n            const timeout = setTimeout(() => reject(\"Couldn't auto authenticate\"), 5000)\n            handshake.then(function(child) {\n                child.on('authorize', data => {\n                    clearTimeout(timeout)\n                    resolve(data)\n                });\n            });\n            })\n        });\n    ",
            "text/plain": [
              "<IPython.core.display.Javascript object>"
            ]
          },
          "metadata": {},
          "output_type": "display_data"
        },
        {
          "name": "stderr",
          "output_type": "stream",
          "text": [
            "\u001b[34m\u001b[1mwandb\u001b[0m: Logging into wandb.ai. (Learn how to deploy a W&B server locally: https://wandb.me/wandb-server)\n",
            "\u001b[34m\u001b[1mwandb\u001b[0m: You can find your API key in your browser here: https://wandb.ai/authorize\n",
            "wandb: Paste an API key from your profile and hit enter:"
          ]
        },
        {
          "name": "stdout",
          "output_type": "stream",
          "text": [
            " ··········\n"
          ]
        },
        {
          "name": "stderr",
          "output_type": "stream",
          "text": [
            "\u001b[34m\u001b[1mwandb\u001b[0m: \u001b[33mWARNING\u001b[0m If you're specifying your api key in code, ensure this code is not shared publicly.\n",
            "\u001b[34m\u001b[1mwandb\u001b[0m: \u001b[33mWARNING\u001b[0m Consider setting the WANDB_API_KEY environment variable, or running `wandb login` from the command line.\n",
            "\u001b[34m\u001b[1mwandb\u001b[0m: No netrc file found, creating one.\n",
            "\u001b[34m\u001b[1mwandb\u001b[0m: Appending key for api.wandb.ai to your netrc file: /root/.netrc\n",
            "\u001b[34m\u001b[1mwandb\u001b[0m: Currently logged in as: \u001b[33mmisterx-what\u001b[0m (\u001b[33mmisterx-what-wedwe\u001b[0m) to \u001b[32mhttps://api.wandb.ai\u001b[0m. Use \u001b[1m`wandb login --relogin`\u001b[0m to force relogin\n"
          ]
        },
        {
          "data": {
            "text/html": [
              "Tracking run with wandb version 0.19.9"
            ],
            "text/plain": [
              "<IPython.core.display.HTML object>"
            ]
          },
          "metadata": {},
          "output_type": "display_data"
        },
        {
          "data": {
            "text/html": [
              "Run data is saved locally in <code>/content/wandb/run-20250415_142725-7apt9nqs</code>"
            ],
            "text/plain": [
              "<IPython.core.display.HTML object>"
            ]
          },
          "metadata": {},
          "output_type": "display_data"
        },
        {
          "data": {
            "text/html": [
              "Syncing run <strong><a href='https://wandb.ai/misterx-what-wedwe/huggingface/runs/7apt9nqs' target=\"_blank\">./results</a></strong> to <a href='https://wandb.ai/misterx-what-wedwe/huggingface' target=\"_blank\">Weights & Biases</a> (<a href='https://wandb.me/developer-guide' target=\"_blank\">docs</a>)<br>"
            ],
            "text/plain": [
              "<IPython.core.display.HTML object>"
            ]
          },
          "metadata": {},
          "output_type": "display_data"
        },
        {
          "data": {
            "text/html": [
              " View project at <a href='https://wandb.ai/misterx-what-wedwe/huggingface' target=\"_blank\">https://wandb.ai/misterx-what-wedwe/huggingface</a>"
            ],
            "text/plain": [
              "<IPython.core.display.HTML object>"
            ]
          },
          "metadata": {},
          "output_type": "display_data"
        },
        {
          "data": {
            "text/html": [
              " View run at <a href='https://wandb.ai/misterx-what-wedwe/huggingface/runs/7apt9nqs' target=\"_blank\">https://wandb.ai/misterx-what-wedwe/huggingface/runs/7apt9nqs</a>"
            ],
            "text/plain": [
              "<IPython.core.display.HTML object>"
            ]
          },
          "metadata": {},
          "output_type": "display_data"
        },
        {
          "data": {
            "text/html": [
              "\n",
              "    <div>\n",
              "      \n",
              "      <progress value='4929' max='4929' style='width:300px; height:20px; vertical-align: middle;'></progress>\n",
              "      [4929/4929 05:57, Epoch 3/3]\n",
              "    </div>\n",
              "    <table border=\"1\" class=\"dataframe\">\n",
              "  <thead>\n",
              " <tr style=\"text-align: left;\">\n",
              "      <th>Epoch</th>\n",
              "      <th>Training Loss</th>\n",
              "      <th>Validation Loss</th>\n",
              "    </tr>\n",
              "  </thead>\n",
              "  <tbody>\n",
              "    <tr>\n",
              "      <td>1</td>\n",
              "      <td>0.653400</td>\n",
              "      <td>0.476579</td>\n",
              "    </tr>\n",
              "    <tr>\n",
              "      <td>2</td>\n",
              "      <td>0.395700</td>\n",
              "      <td>0.397487</td>\n",
              "    </tr>\n",
              "    <tr>\n",
              "      <td>3</td>\n",
              "      <td>0.379100</td>\n",
              "      <td>0.352014</td>\n",
              "    </tr>\n",
              "  </tbody>\n",
              "</table><p>"
            ],
            "text/plain": [
              "<IPython.core.display.HTML object>"
            ]
          },
          "metadata": {},
          "output_type": "display_data"
        },
        {
          "data": {
            "text/plain": [
              "TrainOutput(global_step=4929, training_loss=0.5316442927184273, metrics={'train_runtime': 396.9897, 'train_samples_per_second': 99.29, 'train_steps_per_second': 12.416, 'total_flos': 290820719831040.0, 'train_loss': 0.5316442927184273, 'epoch': 3.0})"
            ]
          },
          "execution_count": 13,
          "metadata": {},
          "output_type": "execute_result"
        }
      ],
      "source": [
        "from transformers import Trainer, TrainingArguments\n",
        "\n",
        "# Параметры обучения\n",
        "training_args = TrainingArguments(\n",
        "    output_dir='./results',          # Куда сохранять модель\n",
        "    num_train_epochs=3,              # Количество эпох\n",
        "    per_device_train_batch_size=8,   # Размер батча для тренировки\n",
        "    per_device_eval_batch_size=8,    # Размер батча для валидации\n",
        "    warmup_steps=500,                # Количество шагов разогрева\n",
        "    weight_decay=0.01,               # Регуляризация\n",
        "    logging_dir='./logs',            # Логирование\n",
        "    logging_steps=10,\n",
        "    eval_strategy=\"epoch\",           # Оценка после каждой эпохи\n",
        "    fp16=True\n",
        ")\n",
        "\n",
        "# Создаем Trainer\n",
        "trainer = Trainer(\n",
        "    model=model,                         # Модель\n",
        "    args=training_args,                  # Параметры обучения\n",
        "    train_dataset=train_dataset,         # Обучающий датасет\n",
        "    eval_dataset=val_dataset             # Валидационный датасет\n",
        ")\n",
        "\n",
        "# Обучаем модель\n",
        "trainer.train()"
      ]
    },
    {
      "cell_type": "code",
      "execution_count": 23,
      "metadata": {
        "id": "s-iO7feG4Qe2"
      },
      "outputs": [],
      "source": [
        "from tqdm import tqdm\n",
        "\n",
        "# Предсказания на тестовых текстах\n",
        "\n",
        "predictions = []\n",
        "\n",
        "for file in os.listdir(train_dir):\n",
        "  with open(os.path.join(train_dir, file), \"r\", encoding=\"utf-8\") as f:\n",
        "        text = f.read()\n",
        "\n",
        "  inputs = tokenizer(text, return_tensors=\"pt\", truncation=True, padding=True, max_length=512).to(\"cuda\")\n",
        "  with torch.no_grad():\n",
        "      outputs = model(**inputs)\n",
        "      probs = torch.nn.functional.softmax(outputs.logits, dim=1)\n",
        "      predicted_class = torch.argmax(probs, dim=1).item()\n",
        "\n",
        "  predicted_author = [k for k, v in author_to_id.items() if v == predicted_class]\n",
        "  predictions.append((file, \"\".join(predicted_author).lower()))\n",
        "\n",
        "df = pd.DataFrame(predictions, columns=[\"filename\", \"author\"])\n",
        "df.to_csv(\"predictions.csv\", index=False)"
      ]
    },
    {
      "cell_type": "code",
      "execution_count": 24,
      "metadata": {
        "colab": {
          "base_uri": "https://localhost:8080/",
          "height": 1000
        },
        "id": "7gFUB2vN8Wg0",
        "outputId": "a49ac479-f33e-48c9-a483-dbc075eab455"
      },
      "outputs": [
        {
          "name": "stdout",
          "output_type": "stream",
          "text": [
            "🔎 Accuracy: 0.42857142857142855\n",
            "🔎 F1-score (macro): 0.36239316239316244\n",
            "\n",
            "📊 Classification Report:\n",
            "              precision    recall  f1-score   support\n",
            "\n",
            "    bradbury       0.00      0.00      0.00         3\n",
            "    bulgakov       0.67      1.00      0.80         4\n",
            "         fry       0.67      0.67      0.67         3\n",
            "       genri       1.00      0.25      0.40         4\n",
            "       simak       0.22      0.50      0.31         4\n",
            " strugatskie       0.00      0.00      0.00         3\n",
            "\n",
            "    accuracy                           0.43        21\n",
            "   macro avg       0.43      0.40      0.36        21\n",
            "weighted avg       0.46      0.43      0.38        21\n",
            "\n"
          ]
        },
        {
          "name": "stderr",
          "output_type": "stream",
          "text": [
            "/usr/local/lib/python3.11/dist-packages/sklearn/metrics/_classification.py:1565: UndefinedMetricWarning: Precision is ill-defined and being set to 0.0 in labels with no predicted samples. Use `zero_division` parameter to control this behavior.\n",
            "  _warn_prf(average, modifier, f\"{metric.capitalize()} is\", len(result))\n",
            "/usr/local/lib/python3.11/dist-packages/sklearn/metrics/_classification.py:1565: UndefinedMetricWarning: Precision is ill-defined and being set to 0.0 in labels with no predicted samples. Use `zero_division` parameter to control this behavior.\n",
            "  _warn_prf(average, modifier, f\"{metric.capitalize()} is\", len(result))\n",
            "/usr/local/lib/python3.11/dist-packages/sklearn/metrics/_classification.py:1565: UndefinedMetricWarning: Precision is ill-defined and being set to 0.0 in labels with no predicted samples. Use `zero_division` parameter to control this behavior.\n",
            "  _warn_prf(average, modifier, f\"{metric.capitalize()} is\", len(result))\n"
          ]
        },
        {
          "data": {
            "image/png": "[encoded data removed]",
            "text/plain": [
              "<Figure size 640x480 with 2 Axes>"
            ]
          },
          "metadata": {},
          "output_type": "display_data"
        },
        {
          "name": "stderr",
          "output_type": "stream",
          "text": [
            "/usr/local/lib/python3.11/dist-packages/sklearn/metrics/_classification.py:1565: UndefinedMetricWarning: Precision is ill-defined and being set to 0.0 in labels with no predicted samples. Use `zero_division` parameter to control this behavior.\n",
            "  _warn_prf(average, modifier, f\"{metric.capitalize()} is\", len(result))\n",
            "/usr/local/lib/python3.11/dist-packages/sklearn/metrics/_classification.py:1565: UndefinedMetricWarning: Precision is ill-defined and being set to 0.0 in labels with no predicted samples. Use `zero_division` parameter to control this behavior.\n",
            "  _warn_prf(average, modifier, f\"{metric.capitalize()} is\", len(result))\n",
            "/usr/local/lib/python3.11/dist-packages/sklearn/metrics/_classification.py:1565: UndefinedMetricWarning: Precision is ill-defined and being set to 0.0 in labels with no predicted samples. Use `zero_division` parameter to control this behavior.\n",
            "  _warn_prf(average, modifier, f\"{metric.capitalize()} is\", len(result))\n",
            "<ipython-input-24-7a1170697ac1>:43: FutureWarning: \n",
            "\n",
            "Passing `palette` without assigning `hue` is deprecated and will be removed in v0.14.0. Assign the `x` variable to `hue` and set `legend=False` for the same effect.\n",
            "\n",
            "  sns.barplot(x=list(f1_scores.keys()), y=list(f1_scores.values()), palette='viridis')\n"
          ]
        },
        {
          "data": {
            "image/png": "[encoded data removed]",
            "text/plain": [
              "<Figure size 1000x600 with 1 Axes>"
            ]
          },
          "metadata": {},
          "output_type": "display_data"
        }
      ],
      "source": [
        "import pandas as pd\n",
        "from sklearn.metrics import classification_report, confusion_matrix, ConfusionMatrixDisplay, accuracy_score, f1_score\n",
        "import matplotlib.pyplot as plt\n",
        "import seaborn as sns\n",
        "\n",
        "# === 1. Загрузка данных ===\n",
        "\n",
        "pred_df = pd.read_csv(\"predictions.csv\")\n",
        "true_df = pd.read_csv(\"corrects.csv\")  # Твой файл с filename и author\n",
        "\n",
        "# Объединим по имени файла\n",
        "merged = pd.merge(pred_df, true_df, on='filename')\n",
        "merged.columns = ['filename', 'predicted_author', 'true_author', 'class']\n",
        "\n",
        "y_true = merged['true_author']\n",
        "y_pred = merged['predicted_author']\n",
        "\n",
        "# === 2. Метрики ===\n",
        "\n",
        "print(\"🔎 Accuracy:\", accuracy_score(y_true, y_pred))\n",
        "print(\"🔎 F1-score (macro):\", f1_score(y_true, y_pred, average='macro'))\n",
        "\n",
        "print(\"\\n📊 Classification Report:\")\n",
        "print(classification_report(y_true, y_pred))\n",
        "\n",
        "# === 3. Матрица ошибок ===\n",
        "\n",
        "labels = sorted(y_true.unique())\n",
        "\n",
        "cm = confusion_matrix(y_true, y_pred, labels=labels)\n",
        "disp = ConfusionMatrixDisplay(confusion_matrix=cm, display_labels=labels)\n",
        "disp.plot(cmap='Blues', xticks_rotation=45)\n",
        "plt.title(\"Матрица ошибок\")\n",
        "plt.tight_layout()\n",
        "plt.show()\n",
        "\n",
        "# === 4. Бар-чарты для F1-score по каждому классу ===\n",
        "\n",
        "report = classification_report(y_true, y_pred, output_dict=True)\n",
        "f1_scores = {label: report[label]['f1-score'] for label in labels}\n",
        "\n",
        "plt.figure(figsize=(10, 6))\n",
        "sns.barplot(x=list(f1_scores.keys()), y=list(f1_scores.values()), palette='viridis')\n",
        "plt.ylabel('F1-score')\n",
        "plt.title('F1-score по авторам')\n",
        "plt.ylim(0, 1.05)\n",
        "plt.tight_layout()\n",
        "plt.show()"
      ]
    }
  ],
  "metadata": {
    "accelerator": "GPU",
    "colab": {
      "gpuType": "T4",
      "provenance": []
    },
    "kernelspec": {
      "display_name": "Python 3",
      "name": "python3"
    },
    "language_info": {
      "name": "python"
    },
    "widgets": {
      "application/vnd.jupyter.widget-state+json": {
        "0d6c1824c811474eb4f6f594919d372b": {
          "model_module": "@jupyter-widgets/controls",
          "model_module_version": "1.5.0",
          "model_name": "ProgressStyleModel",
          "state": {
            "_model_module": "@jupyter-widgets/controls",
            "_model_module_version": "1.5.0",
            "_model_name": "ProgressStyleModel",
            "_view_count": null,
            "_view_module": "@jupyter-widgets/base",
            "_view_module_version": "1.2.0",
            "_view_name": "StyleView",
            "bar_color": null,
            "description_width": ""
          }
        },
        "3721643f7d3a443088ae2cf0213f57eb": {
          "model_module": "@jupyter-widgets/base",
          "model_module_version": "1.2.0",
          "model_name": "LayoutModel",
          "state": {
            "_model_module": "@jupyter-widgets/base",
            "_model_module_version": "1.2.0",
            "_model_name": "LayoutModel",
            "_view_count": null,
            "_view_module": "@jupyter-widgets/base",
            "_view_module_version": "1.2.0",
            "_view_name": "LayoutView",
            "align_content": null,
            "align_items": null,
            "align_self": null,
            "border": null,
            "bottom": null,
            "display": null,
            "flex": null,
            "flex_flow": null,
            "grid_area": null,
            "grid_auto_columns": null,
            "grid_auto_flow": null,
            "grid_auto_rows": null,
            "grid_column": null,
            "grid_gap": null,
            "grid_row": null,
            "grid_template_areas": null,
            "grid_template_columns": null,
            "grid_template_rows": null,
            "height": null,
            "justify_content": null,
            "justify_items": null,
            "left": null,
            "margin": null,
            "max_height": null,
            "max_width": null,
            "min_height": null,
            "min_width": null,
            "object_fit": null,
            "object_position": null,
            "order": null,
            "overflow": null,
            "overflow_x": null,
            "overflow_y": null,
            "padding": null,
            "right": null,
            "top": null,
            "visibility": null,
            "width": null
          }
        },
        "436e6f761b604d17a6837cd77fee14ad": {
          "model_module": "@jupyter-widgets/controls",
          "model_module_version": "1.5.0",
          "model_name": "HTMLModel",
          "state": {
            "_dom_classes": [],
            "_model_module": "@jupyter-widgets/controls",
            "_model_module_version": "1.5.0",
            "_model_name": "HTMLModel",
            "_view_count": null,
            "_view_module": "@jupyter-widgets/controls",
            "_view_module_version": "1.5.0",
            "_view_name": "HTMLView",
            "description": "",
            "description_tooltip": null,
            "layout": "IPY_MODEL_5be202546ff54a3badc82204c455608f",
            "placeholder": "​",
            "style": "IPY_MODEL_fce1b5d42a054e9c8224d377dbf790a0",
            "value": " 47.7M/47.7M [00:00&lt;00:00, 102MB/s]"
          }
        },
        "43b0c3c7c58042c299ee3c9279e995c1": {
          "model_module": "@jupyter-widgets/controls",
          "model_module_version": "1.5.0",
          "model_name": "HBoxModel",
          "state": {
            "_dom_classes": [],
            "_model_module": "@jupyter-widgets/controls",
            "_model_module_version": "1.5.0",
            "_model_name": "HBoxModel",
            "_view_count": null,
            "_view_module": "@jupyter-widgets/controls",
            "_view_module_version": "1.5.0",
            "_view_name": "HBoxView",
            "box_style": "",
            "children": [
              "IPY_MODEL_8d550a10e6df4f93b1175dad5715e628",
              "IPY_MODEL_eb0b5b1fa7704ddba6148f0e286478d4",
              "IPY_MODEL_436e6f761b604d17a6837cd77fee14ad"
            ],
            "layout": "IPY_MODEL_3721643f7d3a443088ae2cf0213f57eb"
          }
        },
        "5be202546ff54a3badc82204c455608f": {
          "model_module": "@jupyter-widgets/base",
          "model_module_version": "1.2.0",
          "model_name": "LayoutModel",
          "state": {
            "_model_module": "@jupyter-widgets/base",
            "_model_module_version": "1.2.0",
            "_model_name": "LayoutModel",
            "_view_count": null,
            "_view_module": "@jupyter-widgets/base",
            "_view_module_version": "1.2.0",
            "_view_name": "LayoutView",
            "align_content": null,
            "align_items": null,
            "align_self": null,
            "border": null,
            "bottom": null,
            "display": null,
            "flex": null,
            "flex_flow": null,
            "grid_area": null,
            "grid_auto_columns": null,
            "grid_auto_flow": null,
            "grid_auto_rows": null,
            "grid_column": null,
            "grid_gap": null,
            "grid_row": null,
            "grid_template_areas": null,
            "grid_template_columns": null,
            "grid_template_rows": null,
            "height": null,
            "justify_content": null,
            "justify_items": null,
            "left": null,
            "margin": null,
            "max_height": null,
            "max_width": null,
            "min_height": null,
            "min_width": null,
            "object_fit": null,
            "object_position": null,
            "order": null,
            "overflow": null,
            "overflow_x": null,
            "overflow_y": null,
            "padding": null,
            "right": null,
            "top": null,
            "visibility": null,
            "width": null
          }
        },
        "8d550a10e6df4f93b1175dad5715e628": {
          "model_module": "@jupyter-widgets/controls",
          "model_module_version": "1.5.0",
          "model_name": "HTMLModel",
          "state": {
            "_dom_classes": [],
            "_model_module": "@jupyter-widgets/controls",
            "_model_module_version": "1.5.0",
            "_model_name": "HTMLModel",
            "_view_count": null,
            "_view_module": "@jupyter-widgets/controls",
            "_view_module_version": "1.5.0",
            "_view_name": "HTMLView",
            "description": "",
            "description_tooltip": null,
            "layout": "IPY_MODEL_a5b81880ae3e49a7aba9d5470744dcf0",
            "placeholder": "​",
            "style": "IPY_MODEL_9e577a37c62c46ebac6f6ed1383e45a5",
            "value": "model.safetensors: 100%"
          }
        },
        "9e577a37c62c46ebac6f6ed1383e45a5": {
          "model_module": "@jupyter-widgets/controls",
          "model_module_version": "1.5.0",
          "model_name": "DescriptionStyleModel",
          "state": {
            "_model_module": "@jupyter-widgets/controls",
            "_model_module_version": "1.5.0",
            "_model_name": "DescriptionStyleModel",
            "_view_count": null,
            "_view_module": "@jupyter-widgets/base",
            "_view_module_version": "1.2.0",
            "_view_name": "StyleView",
            "description_width": ""
          }
        },
        "a5b81880ae3e49a7aba9d5470744dcf0": {
          "model_module": "@jupyter-widgets/base",
          "model_module_version": "1.2.0",
          "model_name": "LayoutModel",
          "state": {
            "_model_module": "@jupyter-widgets/base",
            "_model_module_version": "1.2.0",
            "_model_name": "LayoutModel",
            "_view_count": null,
            "_view_module": "@jupyter-widgets/base",
            "_view_module_version": "1.2.0",
            "_view_name": "LayoutView",
            "align_content": null,
            "align_items": null,
            "align_self": null,
            "border": null,
            "bottom": null,
            "display": null,
            "flex": null,
            "flex_flow": null,
            "grid_area": null,
            "grid_auto_columns": null,
            "grid_auto_flow": null,
            "grid_auto_rows": null,
            "grid_column": null,
            "grid_gap": null,
            "grid_row": null,
            "grid_template_areas": null,
            "grid_template_columns": null,
            "grid_template_rows": null,
            "height": null,
            "justify_content": null,
            "justify_items": null,
            "left": null,
            "margin": null,
            "max_height": null,
            "max_width": null,
            "min_height": null,
            "min_width": null,
            "object_fit": null,
            "object_position": null,
            "order": null,
            "overflow": null,
            "overflow_x": null,
            "overflow_y": null,
            "padding": null,
            "right": null,
            "top": null,
            "visibility": null,
            "width": null
          }
        },
        "a82a0386ead64c20b3cbb2d1605cbf2f": {
          "model_module": "@jupyter-widgets/base",
          "model_module_version": "1.2.0",
          "model_name": "LayoutModel",
          "state": {
            "_model_module": "@jupyter-widgets/base",
            "_model_module_version": "1.2.0",
            "_model_name": "LayoutModel",
            "_view_count": null,
            "_view_module": "@jupyter-widgets/base",
            "_view_module_version": "1.2.0",
            "_view_name": "LayoutView",
            "align_content": null,
            "align_items": null,
            "align_self": null,
            "border": null,
            "bottom": null,
            "display": null,
            "flex": null,
            "flex_flow": null,
            "grid_area": null,
            "grid_auto_columns": null,
            "grid_auto_flow": null,
            "grid_auto_rows": null,
            "grid_column": null,
            "grid_gap": null,
            "grid_row": null,
            "grid_template_areas": null,
            "grid_template_columns": null,
            "grid_template_rows": null,
            "height": null,
            "justify_content": null,
            "justify_items": null,
            "left": null,
            "margin": null,
            "max_height": null,
            "max_width": null,
            "min_height": null,
            "min_width": null,
            "object_fit": null,
            "object_position": null,
            "order": null,
            "overflow": null,
            "overflow_x": null,
            "overflow_y": null,
            "padding": null,
            "right": null,
            "top": null,
            "visibility": null,
            "width": null
          }
        },
        "eb0b5b1fa7704ddba6148f0e286478d4": {
          "model_module": "@jupyter-widgets/controls",
          "model_module_version": "1.5.0",
          "model_name": "FloatProgressModel",
          "state": {
            "_dom_classes": [],
            "_model_module": "@jupyter-widgets/controls",
            "_model_module_version": "1.5.0",
            "_model_name": "FloatProgressModel",
            "_view_count": null,
            "_view_module": "@jupyter-widgets/controls",
            "_view_module_version": "1.5.0",
            "_view_name": "ProgressView",
            "bar_style": "success",
            "description": "",
            "description_tooltip": null,
            "layout": "IPY_MODEL_a82a0386ead64c20b3cbb2d1605cbf2f",
            "max": 47661730,
            "min": 0,
            "orientation": "horizontal",
            "style": "IPY_MODEL_0d6c1824c811474eb4f6f594919d372b",
            "value": 47661730
          }
        },
        "fce1b5d42a054e9c8224d377dbf790a0": {
          "model_module": "@jupyter-widgets/controls",
          "model_module_version": "1.5.0",
          "model_name": "DescriptionStyleModel",
          "state": {
            "_model_module": "@jupyter-widgets/controls",
            "_model_module_version": "1.5.0",
            "_model_name": "DescriptionStyleModel",
            "_view_count": null,
            "_view_module": "@jupyter-widgets/base",
            "_view_module_version": "1.2.0",
            "_view_name": "StyleView",
            "description_width": ""
          }
        }
      }
    }
  },
  "nbformat": 4,
  "nbformat_minor": 0
}
